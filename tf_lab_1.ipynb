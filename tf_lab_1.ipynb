{
 "cells": [
  {
   "cell_type": "markdown",
   "metadata": {},
   "source": [
    "# Tensorflow 实现线性回归"
   ]
  },
  {
   "cell_type": "markdown",
   "metadata": {},
   "source": [
    "1.引入第三方库，定义随机数初始值\n",
    "2.导入训练数据\n",
    "3.定义参数\n",
    "4.定义线性回归模型\n",
    "5.构造损失函数\n",
    "6.定义优化方法\n",
    "7.启动计算流图,初始化参数\n",
    "8.循环迭代多次训练数据"
   ]
  },
  {
   "cell_type": "code",
   "execution_count": 4,
   "metadata": {},
   "outputs": [
    {
     "name": "stdout",
     "output_type": "stream",
     "text": [
      "1.1.0\n"
     ]
    }
   ],
   "source": [
    "import tensorflow as tf\n",
    "tf.set_random_seed(777)\n",
    "print(tf.__version__)"
   ]
  },
  {
   "cell_type": "code",
   "execution_count": 6,
   "metadata": {},
   "outputs": [
    {
     "name": "stdout",
     "output_type": "stream",
     "text": [
      "Tensor(\"Const_4:0\", shape=(3,), dtype=float32)\n"
     ]
    }
   ],
   "source": [
    "x_train = tf.constant([1., 2., 3.])\n",
    "y_train = tf.constant([1., 2., 3.])\n",
    "print(x_train)"
   ]
  },
  {
   "cell_type": "code",
   "execution_count": 7,
   "metadata": {},
   "outputs": [
    {
     "name": "stdout",
     "output_type": "stream",
     "text": [
      "w={} <tf.Variable 'weight:0' shape=(1,) dtype=float32_ref>\n"
     ]
    }
   ],
   "source": [
    "w = tf.Variable(tf.random_normal([1]), name='weight')\n",
    "b = tf.Variable(tf.zeros([1]), name='bias')\n",
    "print(\"w={}\",w)"
   ]
  },
  {
   "cell_type": "code",
   "execution_count": 11,
   "metadata": {},
   "outputs": [],
   "source": [
    "y_hat = w * x_train + b"
   ]
  },
  {
   "cell_type": "code",
   "execution_count": 14,
   "metadata": {},
   "outputs": [],
   "source": [
    "cost = tf.reduce_mean(tf.square(y_train - y_hat))"
   ]
  },
  {
   "cell_type": "code",
   "execution_count": 17,
   "metadata": {},
   "outputs": [],
   "source": [
    "optimzer = tf.train.GradientDescentOptimizer(learning_rate=0.01)\n",
    "train = optimzer.minimize(cost)"
   ]
  },
  {
   "cell_type": "code",
   "execution_count": 19,
   "metadata": {},
   "outputs": [],
   "source": [
    "sess = tf.Session()\n",
    "sess.run(tf.global_variables_initializer())"
   ]
  },
  {
   "cell_type": "code",
   "execution_count": 23,
   "metadata": {},
   "outputs": [
    {
     "name": "stdout",
     "output_type": "stream",
     "text": [
      "0\n",
      "cost is : 3.0695446e-12\n",
      "100\n",
      "cost is : 3.0695446e-12\n",
      "200\n",
      "cost is : 3.0695446e-12\n",
      "300\n",
      "cost is : 3.0695446e-12\n",
      "400\n",
      "cost is : 3.0695446e-12\n",
      "500\n",
      "cost is : 3.0695446e-12\n",
      "600\n",
      "cost is : 3.0695446e-12\n",
      "700\n",
      "cost is : 3.0695446e-12\n",
      "800\n",
      "cost is : 3.0695446e-12\n",
      "900\n",
      "cost is : 3.0695446e-12\n",
      "1000\n",
      "cost is : 3.0695446e-12\n",
      "1100\n",
      "cost is : 3.0695446e-12\n",
      "1200\n",
      "cost is : 3.0695446e-12\n",
      "1300\n",
      "cost is : 3.0695446e-12\n",
      "1400\n",
      "cost is : 3.0695446e-12\n",
      "1500\n",
      "cost is : 3.0695446e-12\n",
      "1600\n",
      "cost is : 3.0695446e-12\n",
      "1700\n",
      "cost is : 3.0695446e-12\n",
      "1800\n",
      "cost is : 3.0695446e-12\n",
      "1900\n",
      "cost is : 3.0695446e-12\n",
      "2000\n",
      "cost is : 3.0695446e-12\n"
     ]
    }
   ],
   "source": [
    "for step in range(2001):\n",
    "    sess.run(train)\n",
    "    if step%100 == 0:\n",
    "        print(step)\n",
    "        print('cost is :',sess.run(cost))"
   ]
  },
  {
   "cell_type": "code",
   "execution_count": null,
   "metadata": {
    "collapsed": true
   },
   "outputs": [],
   "source": []
  }
 ],
 "metadata": {
  "kernelspec": {
   "display_name": "Python 3",
   "language": "python",
   "name": "python3"
  },
  "language_info": {
   "codemirror_mode": {
    "name": "ipython",
    "version": 3
   },
   "file_extension": ".py",
   "mimetype": "text/x-python",
   "name": "python",
   "nbconvert_exporter": "python",
   "pygments_lexer": "ipython3",
   "version": "3.6.3"
  }
 },
 "nbformat": 4,
 "nbformat_minor": 2
}
