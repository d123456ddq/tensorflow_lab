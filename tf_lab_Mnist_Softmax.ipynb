{
 "cells": [
  {
   "cell_type": "markdown",
   "metadata": {},
   "source": [
    "# Tensorflow 实现Minist图集Softmax分类"
   ]
  },
  {
   "cell_type": "markdown",
   "metadata": {},
   "source": [
    "1.引入第三方库，定义随机数初始值与常数值.\n",
    "2.给训练数据设置占位符\n",
    "3.定义参数\n",
    "4.定义线性回归模型\n",
    "5.构造损失函数\n",
    "6.定义优化方法\n",
    "7.开始训练\n",
    "7.启动计算流图,初始化参数\n",
    "8.循环迭代多次训练数据"
   ]
  },
  {
   "cell_type": "code",
   "execution_count": 1,
   "metadata": {},
   "outputs": [
    {
     "name": "stderr",
     "output_type": "stream",
     "text": [
      "/Users/liaowu/anaconda3/lib/python3.6/site-packages/h5py/__init__.py:34: FutureWarning: Conversion of the second argument of issubdtype from `float` to `np.floating` is deprecated. In future, it will be treated as `np.float64 == np.dtype(float).type`.\n",
      "  from ._conv import register_converters as _register_converters\n"
     ]
    },
    {
     "name": "stdout",
     "output_type": "stream",
     "text": [
      "1.1.0\n",
      "Extracting MINIST_data/train-images-idx3-ubyte.gz\n",
      "Extracting MINIST_data/train-labels-idx1-ubyte.gz\n",
      "Extracting MINIST_data/t10k-images-idx3-ubyte.gz\n",
      "Extracting MINIST_data/t10k-labels-idx1-ubyte.gz\n"
     ]
    }
   ],
   "source": [
    "import tensorflow as tf\n",
    "from tensorflow.examples.tutorials.mnist import input_data\n",
    "tf.set_random_seed(777)\n",
    "print(tf.__version__)\n",
    "batch_size = 100\n",
    "epoches = 25\n",
    "learing_rate = 0.001\n",
    "minist = input_data.read_data_sets('MINIST_data/',one_hot=True)"
   ]
  },
  {
   "cell_type": "code",
   "execution_count": 2,
   "metadata": {},
   "outputs": [
    {
     "name": "stdout",
     "output_type": "stream",
     "text": [
      "Tensor(\"Placeholder:0\", shape=(?, 784), dtype=float32)\n"
     ]
    }
   ],
   "source": [
    "x_train = tf.placeholder(tf.float32, shape=[None, 784])\n",
    "y_train = tf.placeholder(tf.float32, shape=[None, 10])\n",
    "print(x_train)"
   ]
  },
  {
   "cell_type": "code",
   "execution_count": 3,
   "metadata": {},
   "outputs": [
    {
     "name": "stdout",
     "output_type": "stream",
     "text": [
      "w={},{},{} <tf.Variable 'W1:0' shape=(784, 256) dtype=float32_ref> <tf.Variable 'W2:0' shape=(256, 256) dtype=float32_ref> <tf.Variable 'W3:0' shape=(256, 10) dtype=float32_ref>\n"
     ]
    }
   ],
   "source": [
    "w1 = tf.get_variable('W1', shape=[784, 256],initializer=tf.contrib.layers.xavier_initializer())\n",
    "b1 = tf.Variable(tf.random_normal([256]), name='b1')\n",
    "w2 = tf.get_variable('W2', shape=[256,256], initializer=tf.contrib.layers.xavier_initializer())\n",
    "b2 = tf.Variable(tf.random_normal([256]), name='b2')\n",
    "w3 = tf.get_variable('W3', shape=[256,10], initializer=tf.contrib.layers.xavier_initializer())\n",
    "b3 = tf.Variable(tf.random_normal([10]), name='b3')\n",
    "print(\"w={},{},{}\",w1,w2,w3)"
   ]
  },
  {
   "cell_type": "code",
   "execution_count": 8,
   "metadata": {},
   "outputs": [
    {
     "name": "stdout",
     "output_type": "stream",
     "text": [
      "Tensor(\"add_5:0\", shape=(?, 10), dtype=float32)\n"
     ]
    }
   ],
   "source": [
    "L1 = tf.nn.relu(tf.matmul(x_train, w1) + b1)\n",
    "L2 = tf.nn.relu(tf.matmul(L1, w2) + b2)\n",
    "y_hat = tf.matmul(L2, w3) + b3\n",
    "print(y_hat)"
   ]
  },
  {
   "cell_type": "code",
   "execution_count": 9,
   "metadata": {},
   "outputs": [],
   "source": [
    "cost = tf.reduce_mean(tf.nn.softmax_cross_entropy_with_logits(logits=y_hat, labels=y_train))"
   ]
  },
  {
   "cell_type": "code",
   "execution_count": 10,
   "metadata": {},
   "outputs": [],
   "source": [
    "optimzer = tf.train.AdamOptimizer(learning_rate=0.001)\n",
    "train = optimzer.minimize(cost)"
   ]
  },
  {
   "cell_type": "code",
   "execution_count": 17,
   "metadata": {},
   "outputs": [
    {
     "name": "stdout",
     "output_type": "stream",
     "text": [
      "epoch= 1\n",
      "cost is : 0.29864496646279637\n",
      "epoch= 2\n",
      "cost is : 0.11319338484243913\n",
      "epoch= 3\n",
      "cost is : 0.07496338152072646\n",
      "epoch= 4\n",
      "cost is : 0.05068110496059738\n",
      "epoch= 5\n",
      "cost is : 0.039421134228310124\n",
      "epoch= 6\n",
      "cost is : 0.029595487615813248\n",
      "epoch= 7\n",
      "cost is : 0.021517696890620178\n",
      "epoch= 8\n",
      "cost is : 0.021269497302339666\n",
      "epoch= 9\n",
      "cost is : 0.017323538790700366\n",
      "epoch= 10\n",
      "cost is : 0.014626376045608512\n",
      "epoch= 11\n",
      "cost is : 0.010286059641326905\n",
      "epoch= 12\n",
      "cost is : 0.01271730992588511\n",
      "epoch= 13\n",
      "cost is : 0.011051392081651349\n",
      "epoch= 14\n",
      "cost is : 0.010951118159732274\n",
      "epoch= 15\n",
      "cost is : 0.00952903844206131\n",
      "Accuracy: 0.977\n"
     ]
    }
   ],
   "source": [
    "with tf.Session() as sess:\n",
    "    sess.run(tf.global_variables_initializer())    \n",
    "    for epoch in range(epoches):\n",
    "        avg_cost = 0\n",
    "        total_bachs = int(minist.train.num_examples / batch_size)\n",
    "        for i in range(total_bachs):\n",
    "            x_data, y_data = minist.train.next_batch(batch_size)\n",
    "            costval, _ = sess.run([cost, train], feed_dict={x_train:x_data, y_train:y_data})\n",
    "            avg_cost = avg_cost+costval\n",
    "        print('epoch=',epoch+1)\n",
    "        print('cost is :', avg_cost/total_bachs)\n",
    "           # avg_cost += costval/total_bachs\n",
    "    correct_prediction = tf.equal(tf.argmax(y_hat, 1), tf.argmax(y_train, 1))\n",
    "    accuracy = tf.reduce_mean(tf.cast(correct_prediction, tf.float32))\n",
    "    print('Accuracy:', sess.run(accuracy, feed_dict={x_train: minist.test.images, y_train: minist.test.labels}))"
   ]
  },
  {
   "cell_type": "code",
   "execution_count": null,
   "metadata": {
    "collapsed": true
   },
   "outputs": [],
   "source": []
  }
 ],
 "metadata": {
  "kernelspec": {
   "display_name": "Python 3",
   "language": "python",
   "name": "python3"
  },
  "language_info": {
   "codemirror_mode": {
    "name": "ipython",
    "version": 3
   },
   "file_extension": ".py",
   "mimetype": "text/x-python",
   "name": "python",
   "nbconvert_exporter": "python",
   "pygments_lexer": "ipython3",
   "version": "3.6.3"
  }
 },
 "nbformat": 4,
 "nbformat_minor": 2
}
