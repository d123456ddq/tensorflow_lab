{
 "cells": [
  {
   "cell_type": "markdown",
   "metadata": {},
   "source": [
    "# Tensorflow 实现Logistic回归"
   ]
  },
  {
   "cell_type": "markdown",
   "metadata": {},
   "source": [
    "1.引入第三方库，定义随机数初始值.\n",
    "2.给训练数据设置占位符\n",
    "3.定义参数\n",
    "4.定义线性回归模型\n",
    "5.构造损失函数\n",
    "6.定义优化方法\n",
    "7.给分类问题定义精度度量\n",
    "7.启动计算流图,初始化参数\n",
    "8.循环迭代多次训练数据"
   ]
  },
  {
   "cell_type": "code",
   "execution_count": 43,
   "metadata": {},
   "outputs": [
    {
     "name": "stdout",
     "output_type": "stream",
     "text": [
      "1.1.0\n"
     ]
    }
   ],
   "source": [
    "import tensorflow as tf\n",
    "tf.set_random_seed(777)\n",
    "print(tf.__version__)"
   ]
  },
  {
   "cell_type": "code",
   "execution_count": 44,
   "metadata": {},
   "outputs": [
    {
     "name": "stdout",
     "output_type": "stream",
     "text": [
      "Tensor(\"Placeholder_6:0\", shape=(?, 2), dtype=float32)\n"
     ]
    }
   ],
   "source": [
    "x_train = tf.placeholder(tf.float32, shape=[None, 2])\n",
    "y_train = tf.placeholder(tf.float32, shape=[None, 1])\n",
    "print(x_train)"
   ]
  },
  {
   "cell_type": "code",
   "execution_count": 45,
   "metadata": {},
   "outputs": [
    {
     "name": "stdout",
     "output_type": "stream",
     "text": [
      "w={} <tf.Variable 'weight_3:0' shape=(2, 1) dtype=float32_ref>\n"
     ]
    }
   ],
   "source": [
    "w = tf.Variable(tf.random_normal([2, 1]), name='weight')\n",
    "b = tf.Variable(tf.zeros([1]), name='bias')\n",
    "print(\"w={}\",w)"
   ]
  },
  {
   "cell_type": "code",
   "execution_count": 54,
   "metadata": {},
   "outputs": [
    {
     "name": "stdout",
     "output_type": "stream",
     "text": [
      "Tensor(\"Sigmoid_3:0\", shape=(?, 1), dtype=float32)\n"
     ]
    }
   ],
   "source": [
    "y_hat = tf.sigmoid(tf.matmul(x_train, w) + b)\n",
    "print(y_hat)"
   ]
  },
  {
   "cell_type": "code",
   "execution_count": 74,
   "metadata": {},
   "outputs": [],
   "source": [
    "cost = -tf.reduce_mean(y_train*tf.log(y_hat) + (1-y_train)*tf.log(1-y_hat))"
   ]
  },
  {
   "cell_type": "code",
   "execution_count": 75,
   "metadata": {},
   "outputs": [],
   "source": [
    "optimzer = tf.train.GradientDescentOptimizer(learning_rate=0.01)\n",
    "train = optimzer.minimize(cost)"
   ]
  },
  {
   "cell_type": "code",
   "execution_count": 76,
   "metadata": {},
   "outputs": [
    {
     "name": "stdout",
     "output_type": "stream",
     "text": [
      "(?, 1)\n"
     ]
    }
   ],
   "source": [
    "predit = tf.cast(y_hat > 0.5, dtype=tf.float32)\n",
    "print(predit.shape)\n",
    "accuracy = tf.reduce_mean(tf.cast(tf.equal(predit, y_train), dtype=tf.float32))"
   ]
  },
  {
   "cell_type": "code",
   "execution_count": 77,
   "metadata": {},
   "outputs": [
    {
     "name": "stdout",
     "output_type": "stream",
     "text": [
      "0\n",
      "step = , cost is : 0.6106296\n",
      "100\n",
      "step = , cost is : 0.49489033\n",
      "200\n",
      "step = , cost is : 0.48508772\n",
      "300\n",
      "step = , cost is : 0.4759507\n",
      "400\n",
      "step = , cost is : 0.46716926\n",
      "500\n",
      "step = , cost is : 0.45869493\n",
      "600\n",
      "step = , cost is : 0.45049265\n",
      "700\n",
      "step = , cost is : 0.4425366\n",
      "800\n",
      "step = , cost is : 0.4348072\n",
      "900\n",
      "step = , cost is : 0.4272897\n",
      "1000\n",
      "step = , cost is : 0.41997227\n",
      "1100\n",
      "step = , cost is : 0.41284546\n",
      "1200\n",
      "step = , cost is : 0.40590146\n",
      "1300\n",
      "step = , cost is : 0.39913353\n",
      "1400\n",
      "step = , cost is : 0.392536\n",
      "1500\n",
      "step = , cost is : 0.38610354\n",
      "1600\n",
      "step = , cost is : 0.37983143\n",
      "1700\n",
      "step = , cost is : 0.3737154\n",
      "1800\n",
      "step = , cost is : 0.36775103\n",
      "1900\n",
      "step = , cost is : 0.36193445\n",
      "2000\n",
      "step = , cost is : 0.35626173\n",
      "2100\n",
      "step = , cost is : 0.3507292\n",
      "2200\n",
      "step = , cost is : 0.34533307\n",
      "2300\n",
      "step = , cost is : 0.34006974\n",
      "2400\n",
      "step = , cost is : 0.33493578\n",
      "2500\n",
      "step = , cost is : 0.32992777\n",
      "2600\n",
      "step = , cost is : 0.32504222\n",
      "2700\n",
      "step = , cost is : 0.3202759\n",
      "2800\n",
      "step = , cost is : 0.3156255\n",
      "2900\n",
      "step = , cost is : 0.3110878\n",
      "3000\n",
      "step = , cost is : 0.3066598\n",
      "3100\n",
      "step = , cost is : 0.30233827\n",
      "3200\n",
      "step = , cost is : 0.29812038\n",
      "3300\n",
      "step = , cost is : 0.2940032\n",
      "3400\n",
      "step = , cost is : 0.28998378\n",
      "3500\n",
      "step = , cost is : 0.28605938\n",
      "3600\n",
      "step = , cost is : 0.28222737\n",
      "3700\n",
      "step = , cost is : 0.27848503\n",
      "3800\n",
      "step = , cost is : 0.27482975\n",
      "3900\n",
      "step = , cost is : 0.2712591\n",
      "4000\n",
      "step = , cost is : 0.26777065\n",
      "4100\n",
      "step = , cost is : 0.264362\n",
      "4200\n",
      "step = , cost is : 0.2610309\n",
      "4300\n",
      "step = , cost is : 0.25777516\n",
      "4400\n",
      "step = , cost is : 0.25459248\n",
      "4500\n",
      "step = , cost is : 0.25148073\n",
      "4600\n",
      "step = , cost is : 0.2484381\n",
      "4700\n",
      "step = , cost is : 0.24546249\n",
      "4800\n",
      "step = , cost is : 0.242552\n",
      "4900\n",
      "step = , cost is : 0.23970477\n",
      "5000\n",
      "step = , cost is : 0.23691905\n",
      "5100\n",
      "step = , cost is : 0.23419297\n",
      "5200\n",
      "step = , cost is : 0.231525\n",
      "5300\n",
      "step = , cost is : 0.22891332\n",
      "5400\n",
      "step = , cost is : 0.2263565\n",
      "5500\n",
      "step = , cost is : 0.22385299\n",
      "5600\n",
      "step = , cost is : 0.22140132\n",
      "5700\n",
      "step = , cost is : 0.21899985\n",
      "5800\n",
      "step = , cost is : 0.21664745\n",
      "5900\n",
      "step = , cost is : 0.21434271\n",
      "6000\n",
      "step = , cost is : 0.21208417\n",
      "6100\n",
      "step = , cost is : 0.2098708\n",
      "6200\n",
      "step = , cost is : 0.20770115\n",
      "6300\n",
      "step = , cost is : 0.20557423\n",
      "6400\n",
      "step = , cost is : 0.20348878\n",
      "6500\n",
      "step = , cost is : 0.20144375\n",
      "6600\n",
      "step = , cost is : 0.19943793\n",
      "6700\n",
      "step = , cost is : 0.19747047\n",
      "6800\n",
      "step = , cost is : 0.19554023\n",
      "6900\n",
      "step = , cost is : 0.19364636\n",
      "7000\n",
      "step = , cost is : 0.19178773\n",
      "7100\n",
      "step = , cost is : 0.18996352\n",
      "7200\n",
      "step = , cost is : 0.18817286\n",
      "7300\n",
      "step = , cost is : 0.18641488\n",
      "7400\n",
      "step = , cost is : 0.1846887\n",
      "7500\n",
      "step = , cost is : 0.1829936\n",
      "7600\n",
      "step = , cost is : 0.18132876\n",
      "7700\n",
      "step = , cost is : 0.17969339\n",
      "7800\n",
      "step = , cost is : 0.17808677\n",
      "7900\n",
      "step = , cost is : 0.17650817\n",
      "8000\n",
      "step = , cost is : 0.17495698\n",
      "8100\n",
      "step = , cost is : 0.17343242\n",
      "8200\n",
      "step = , cost is : 0.17193389\n",
      "8300\n",
      "step = , cost is : 0.17046084\n",
      "8400\n",
      "step = , cost is : 0.1690125\n",
      "8500\n",
      "step = , cost is : 0.16758841\n",
      "8600\n",
      "step = , cost is : 0.16618788\n",
      "8700\n",
      "step = , cost is : 0.16481043\n",
      "8800\n",
      "step = , cost is : 0.16345552\n",
      "8900\n",
      "step = , cost is : 0.1621226\n",
      "9000\n",
      "step = , cost is : 0.16081114\n",
      "9100\n",
      "step = , cost is : 0.15952058\n",
      "9200\n",
      "step = , cost is : 0.15825069\n",
      "9300\n",
      "step = , cost is : 0.15700078\n",
      "9400\n",
      "step = , cost is : 0.15577042\n",
      "9500\n",
      "step = , cost is : 0.15455921\n",
      "9600\n",
      "step = , cost is : 0.15336673\n",
      "9700\n",
      "step = , cost is : 0.15219256\n",
      "9800\n",
      "step = , cost is : 0.15103625\n",
      "9900\n",
      "step = , cost is : 0.14989747\n",
      "10000\n",
      "step = , cost is : 0.14877574\n",
      "1.0\n",
      "[[0.]\n",
      " [0.]\n",
      " [0.]\n",
      " [1.]\n",
      " [1.]\n",
      " [1.]]\n"
     ]
    }
   ],
   "source": [
    "x_data = [[1, 2], [2, 3], [3, 1], [4, 3], [5, 3], [6, 2]] \n",
    "y_data = [[0], [0], [0], [1], [1], [1]]\n",
    "with tf.Session() as sess:\n",
    "    sess.run(tf.global_variables_initializer())\n",
    "    for step in range(10001):\n",
    "        costval, _ = sess.run([cost, train], feed_dict={x_train: x_data, y_train: y_data})\n",
    "        if step%100 == 0:\n",
    "            print(step)\n",
    "            print('step = , cost is :', costval)\n",
    "    a, b = sess.run([accuracy, predit], feed_dict={x_train:x_data, y_train:y_data})\n",
    "    print(a)\n",
    "    print(b)"
   ]
  },
  {
   "cell_type": "code",
   "execution_count": null,
   "metadata": {
    "collapsed": true
   },
   "outputs": [],
   "source": []
  }
 ],
 "metadata": {
  "kernelspec": {
   "display_name": "Python 3",
   "language": "python",
   "name": "python3"
  },
  "language_info": {
   "codemirror_mode": {
    "name": "ipython",
    "version": 3
   },
   "file_extension": ".py",
   "mimetype": "text/x-python",
   "name": "python",
   "nbconvert_exporter": "python",
   "pygments_lexer": "ipython3",
   "version": "3.6.3"
  }
 },
 "nbformat": 4,
 "nbformat_minor": 2
}
