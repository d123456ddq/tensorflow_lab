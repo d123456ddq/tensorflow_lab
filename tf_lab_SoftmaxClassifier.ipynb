{
 "cells": [
  {
   "cell_type": "markdown",
   "metadata": {},
   "source": [
    "# Tensorflow 实现Softmax分类"
   ]
  },
  {
   "cell_type": "markdown",
   "metadata": {},
   "source": [
    "1.引入第三方库，定义随机数初始值.\n",
    "2.给训练数据设置占位符\n",
    "3.定义参数\n",
    "4.定义线性回归模型\n",
    "5.构造损失函数\n",
    "6.定义优化方法\n",
    "7.给分类问题定义精度度量\n",
    "7.启动计算流图,初始化参数\n",
    "8.循环迭代多次训练数据"
   ]
  },
  {
   "cell_type": "code",
   "execution_count": 78,
   "metadata": {},
   "outputs": [
    {
     "name": "stdout",
     "output_type": "stream",
     "text": [
      "1.1.0\n"
     ]
    }
   ],
   "source": [
    "import tensorflow as tf\n",
    "tf.set_random_seed(777)\n",
    "print(tf.__version__)"
   ]
  },
  {
   "cell_type": "code",
   "execution_count": 79,
   "metadata": {},
   "outputs": [
    {
     "name": "stdout",
     "output_type": "stream",
     "text": [
      "Tensor(\"Placeholder_8:0\", shape=(?, 4), dtype=float32)\n"
     ]
    }
   ],
   "source": [
    "x_train = tf.placeholder(tf.float32, shape=[None, 4])\n",
    "y_train = tf.placeholder(tf.float32, shape=[None, 3])\n",
    "print(x_train)"
   ]
  },
  {
   "cell_type": "code",
   "execution_count": 82,
   "metadata": {},
   "outputs": [
    {
     "name": "stdout",
     "output_type": "stream",
     "text": [
      "w={} <tf.Variable 'weight_5:0' shape=(4, 3) dtype=float32_ref>\n"
     ]
    }
   ],
   "source": [
    "w = tf.Variable(tf.random_normal([4, 3]), name='weight')\n",
    "b = tf.Variable(tf.zeros([3]), name='bias')\n",
    "print(\"w={}\",w)"
   ]
  },
  {
   "cell_type": "code",
   "execution_count": 84,
   "metadata": {},
   "outputs": [
    {
     "name": "stdout",
     "output_type": "stream",
     "text": [
      "Tensor(\"Softmax_2:0\", shape=(?, 3), dtype=float32)\n"
     ]
    }
   ],
   "source": [
    "y_hat = tf.nn.softmax(tf.matmul(x_train, w) + b)\n",
    "print(y_hat)"
   ]
  },
  {
   "cell_type": "code",
   "execution_count": 88,
   "metadata": {},
   "outputs": [],
   "source": [
    "cost = tf.reduce_mean(-tf.reduce_sum(y_train*tf.log(y_hat), axis=1))"
   ]
  },
  {
   "cell_type": "code",
   "execution_count": 89,
   "metadata": {},
   "outputs": [],
   "source": [
    "optimzer = tf.train.GradientDescentOptimizer(learning_rate=0.01)\n",
    "train = optimzer.minimize(cost)"
   ]
  },
  {
   "cell_type": "code",
   "execution_count": 91,
   "metadata": {},
   "outputs": [
    {
     "name": "stdout",
     "output_type": "stream",
     "text": [
      "0\n",
      "step = , cost is : 6.035943\n",
      "100\n",
      "step = , cost is : 1.1054982\n",
      "200\n",
      "step = , cost is : 1.0000138\n",
      "300\n",
      "step = , cost is : 0.9119276\n",
      "400\n",
      "step = , cost is : 0.8377934\n",
      "500\n",
      "step = , cost is : 0.77510536\n",
      "600\n",
      "step = , cost is : 0.7222651\n",
      "700\n",
      "step = , cost is : 0.67825437\n",
      "800\n",
      "step = , cost is : 0.6422053\n",
      "900\n",
      "step = , cost is : 0.61309433\n",
      "1000\n",
      "step = , cost is : 0.58969986\n",
      "1100\n",
      "step = , cost is : 0.5707643\n",
      "1200\n",
      "step = , cost is : 0.5551756\n",
      "1300\n",
      "step = , cost is : 0.5420548\n",
      "1400\n",
      "step = , cost is : 0.5307546\n",
      "1500\n",
      "step = , cost is : 0.52081484\n",
      "1600\n",
      "step = , cost is : 0.51191217\n",
      "1700\n",
      "step = , cost is : 0.5038179\n",
      "1800\n",
      "step = , cost is : 0.4963689\n",
      "1900\n",
      "step = , cost is : 0.48944584\n",
      "2000\n",
      "step = , cost is : 0.48296\n",
      "2100\n",
      "step = , cost is : 0.4768439\n",
      "2200\n",
      "step = , cost is : 0.4710452\n",
      "2300\n",
      "step = , cost is : 0.46552244\n",
      "2400\n",
      "step = , cost is : 0.46024242\n",
      "2500\n",
      "step = , cost is : 0.4551779\n",
      "2600\n",
      "step = , cost is : 0.45030642\n",
      "2700\n",
      "step = , cost is : 0.44560915\n",
      "2800\n",
      "step = , cost is : 0.44107017\n",
      "2900\n",
      "step = , cost is : 0.43667576\n",
      "3000\n",
      "step = , cost is : 0.4324144\n",
      "3100\n",
      "step = , cost is : 0.42827564\n",
      "3200\n",
      "step = , cost is : 0.42425057\n",
      "3300\n",
      "step = , cost is : 0.42033148\n",
      "3400\n",
      "step = , cost is : 0.4165112\n",
      "3500\n",
      "step = , cost is : 0.41278374\n",
      "3600\n",
      "step = , cost is : 0.40914342\n",
      "3700\n",
      "step = , cost is : 0.40558538\n",
      "3800\n",
      "step = , cost is : 0.4021051\n",
      "3900\n",
      "step = , cost is : 0.3986984\n",
      "4000\n",
      "step = , cost is : 0.39536172\n",
      "4100\n",
      "step = , cost is : 0.39209157\n",
      "4200\n",
      "step = , cost is : 0.38888508\n",
      "4300\n",
      "step = , cost is : 0.3857392\n",
      "4400\n",
      "step = , cost is : 0.38265145\n",
      "4500\n",
      "step = , cost is : 0.3796194\n",
      "4600\n",
      "step = , cost is : 0.37664095\n",
      "4700\n",
      "step = , cost is : 0.3737138\n",
      "4800\n",
      "step = , cost is : 0.3708362\n",
      "4900\n",
      "step = , cost is : 0.36800635\n",
      "5000\n",
      "step = , cost is : 0.3652227\n",
      "5100\n",
      "step = , cost is : 0.36248362\n",
      "5200\n",
      "step = , cost is : 0.35978746\n",
      "5300\n",
      "step = , cost is : 0.35713312\n",
      "5400\n",
      "step = , cost is : 0.3545193\n",
      "5500\n",
      "step = , cost is : 0.3519446\n",
      "5600\n",
      "step = , cost is : 0.34940803\n",
      "5700\n",
      "step = , cost is : 0.34690842\n",
      "5800\n",
      "step = , cost is : 0.3444449\n",
      "5900\n",
      "step = , cost is : 0.34201628\n",
      "6000\n",
      "step = , cost is : 0.33962184\n",
      "6100\n",
      "step = , cost is : 0.33726066\n",
      "6200\n",
      "step = , cost is : 0.3349318\n",
      "6300\n",
      "step = , cost is : 0.33263463\n",
      "6400\n",
      "step = , cost is : 0.33036816\n",
      "6500\n",
      "step = , cost is : 0.32813197\n",
      "6600\n",
      "step = , cost is : 0.325925\n",
      "6700\n",
      "step = , cost is : 0.3237468\n",
      "6800\n",
      "step = , cost is : 0.32159686\n",
      "6900\n",
      "step = , cost is : 0.31947422\n",
      "7000\n",
      "step = , cost is : 0.31737864\n",
      "7100\n",
      "step = , cost is : 0.3153093\n",
      "7200\n",
      "step = , cost is : 0.31326568\n",
      "7300\n",
      "step = , cost is : 0.31124747\n",
      "7400\n",
      "step = , cost is : 0.30925402\n",
      "7500\n",
      "step = , cost is : 0.30728462\n",
      "7600\n",
      "step = , cost is : 0.3053391\n",
      "7700\n",
      "step = , cost is : 0.30341697\n",
      "7800\n",
      "step = , cost is : 0.30151764\n",
      "7900\n",
      "step = , cost is : 0.29964072\n",
      "8000\n",
      "step = , cost is : 0.29778582\n",
      "8100\n",
      "step = , cost is : 0.29595262\n",
      "8200\n",
      "step = , cost is : 0.29414052\n",
      "8300\n",
      "step = , cost is : 0.29234934\n",
      "8400\n",
      "step = , cost is : 0.29057878\n",
      "8500\n",
      "step = , cost is : 0.28882813\n",
      "8600\n",
      "step = , cost is : 0.28709728\n",
      "8700\n",
      "step = , cost is : 0.28538585\n",
      "8800\n",
      "step = , cost is : 0.28369355\n",
      "8900\n",
      "step = , cost is : 0.28202003\n",
      "9000\n",
      "step = , cost is : 0.28036493\n",
      "9100\n",
      "step = , cost is : 0.27872795\n",
      "9200\n",
      "step = , cost is : 0.27710885\n",
      "9300\n",
      "step = , cost is : 0.27550733\n",
      "9400\n",
      "step = , cost is : 0.27392304\n",
      "9500\n",
      "step = , cost is : 0.27235568\n",
      "9600\n",
      "step = , cost is : 0.27080515\n",
      "9700\n",
      "step = , cost is : 0.26927096\n",
      "9800\n",
      "step = , cost is : 0.26775312\n",
      "9900\n",
      "step = , cost is : 0.2662512\n",
      "10000\n",
      "step = , cost is : 0.26476496\n",
      "[[2.0387934e-01 7.9606694e-01 5.3703105e-05]\n",
      " [5.4757881e-01 4.0365762e-01 4.8763562e-02]\n",
      " [8.5403681e-06 3.3871182e-03 9.9660432e-01]] [1 0 2]\n",
      "<tf.Variable 'bias_5:0' shape=(3,) dtype=float32_ref>\n"
     ]
    }
   ],
   "source": [
    "x_data = [[1, 2, 1, 1], [2, 1, 3, 2], [3, 1, 3, 4], [4, 1, 5, 5], [1, 7, 5, 5], \n",
    "                                                        [1, 2, 5, 6], [1, 6, 6, 6], [1, 7, 7, 7]]\n",
    "y_data = [[0, 0, 1], [0, 0, 1], [0, 0, 1], [0, 1, 0], [0, 1, 0], [0, 1, 0], [1, 0, 0], [1, 0, 0]]\n",
    "with tf.Session() as sess:\n",
    "    sess.run(tf.global_variables_initializer())\n",
    "    for step in range(10001):\n",
    "        costval, _ = sess.run([cost, train], feed_dict={x_train: x_data, y_train: y_data})\n",
    "        if step%100 == 0:\n",
    "            print(step)\n",
    "            print('step = , cost is :', costval)\n",
    "    \n",
    "    all = sess.run(y_hat, feed_dict={x_train:[[1, 11, 7, 9], \n",
    "                                          [1, 3, 4, 3], \n",
    "                                          [1, 1, 0, 1]]})\n",
    "    print(all, sess.run(tf.arg_max(all,1)))\n",
    "    print(b)"
   ]
  },
  {
   "cell_type": "code",
   "execution_count": null,
   "metadata": {
    "collapsed": true
   },
   "outputs": [],
   "source": []
  }
 ],
 "metadata": {
  "kernelspec": {
   "display_name": "Python 3",
   "language": "python",
   "name": "python3"
  },
  "language_info": {
   "codemirror_mode": {
    "name": "ipython",
    "version": 3
   },
   "file_extension": ".py",
   "mimetype": "text/x-python",
   "name": "python",
   "nbconvert_exporter": "python",
   "pygments_lexer": "ipython3",
   "version": "3.6.3"
  }
 },
 "nbformat": 4,
 "nbformat_minor": 2
}
